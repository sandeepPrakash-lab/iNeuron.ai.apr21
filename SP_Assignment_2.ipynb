{
 "cells": [
  {
   "cell_type": "markdown",
   "id": "588258d4",
   "metadata": {},
   "source": [
    "## Assignment 2 - By Sandeep Prakash \n",
    "Email **sanprakash@gmail.com** Mobile **9818457736** SkypeId **Sandeep_prakash@outlook.com**"
   ]
  },
  {
   "cell_type": "markdown",
   "id": "bb8e72ed",
   "metadata": {},
   "source": [
    "# Problem 1 \n",
    "Create the below pattern using nested for loop in Python."
   ]
  },
  {
   "cell_type": "markdown",
   "id": "b30893a2",
   "metadata": {},
   "source": [
    "In the Below program, variable **Index_end** takes a value. the program will give pattern based on this value. it can be increased upto any level"
   ]
  },
  {
   "cell_type": "code",
   "execution_count": 1,
   "id": "15b00fe9",
   "metadata": {},
   "outputs": [],
   "source": [
    "star_string = \"* \""
   ]
  },
  {
   "cell_type": "code",
   "execution_count": 3,
   "id": "26df4245",
   "metadata": {},
   "outputs": [
    {
     "name": "stdout",
     "output_type": "stream",
     "text": [
      "* \n",
      "* * \n",
      "* * * \n",
      "* * * * \n",
      "* * * * * \n",
      "* * * * \n",
      "* * * \n",
      "* * \n",
      "* \n"
     ]
    }
   ],
   "source": [
    "Index_start=0\n",
    "Index_end=10\n",
    "to_peak_point = Index_end/2\n",
    "fr_peak_point =2\n",
    "for i in range(Index_start, Index_end):\n",
    "    if i<to_peak_point:\n",
    "        star_string = star_string + \"* \"\n",
    "        print(star_string) \n",
    "    if i> to_peak_point:\n",
    "        print(star_string[:(Index_end-fr_peak_point)])\n",
    "        fr_peak_point = fr_peak_point+2\n",
    "               \n",
    "star_string=\"\"    "
   ]
  },
  {
   "cell_type": "markdown",
   "id": "aec350fa",
   "metadata": {},
   "source": [
    "# Problem 2\n",
    "Write a Python program to reverse a word after accepting the input from the user."
   ]
  },
  {
   "cell_type": "code",
   "execution_count": null,
   "id": "130059fc",
   "metadata": {},
   "outputs": [],
   "source": [
    "name = input()\n",
    "reverse_name =\"\"\n",
    "\n",
    "reverse_name = name[::-1]\n",
    "print(reverse_name)"
   ]
  },
  {
   "cell_type": "code",
   "execution_count": null,
   "id": "68e4eb04",
   "metadata": {},
   "outputs": [],
   "source": []
  },
  {
   "cell_type": "code",
   "execution_count": null,
   "id": "107c32ec",
   "metadata": {},
   "outputs": [],
   "source": []
  },
  {
   "cell_type": "code",
   "execution_count": null,
   "id": "20d7314f",
   "metadata": {},
   "outputs": [],
   "source": []
  }
 ],
 "metadata": {
  "kernelspec": {
   "display_name": "Python 3",
   "language": "python",
   "name": "python3"
  },
  "language_info": {
   "codemirror_mode": {
    "name": "ipython",
    "version": 3
   },
   "file_extension": ".py",
   "mimetype": "text/x-python",
   "name": "python",
   "nbconvert_exporter": "python",
   "pygments_lexer": "ipython3",
   "version": "3.8.8"
  }
 },
 "nbformat": 4,
 "nbformat_minor": 5
}
